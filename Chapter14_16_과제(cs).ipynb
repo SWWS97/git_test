{
  "cells": [
    {
      "cell_type": "markdown",
      "metadata": {
        "id": "view-in-github",
        "colab_type": "text"
      },
      "source": [
        "<a href=\"https://colab.research.google.com/github/SWWS97/git_test/blob/main/Chapter14_16_%E1%84%80%E1%85%AA%E1%84%8C%E1%85%A6(cs).ipynb\" target=\"_parent\"><img src=\"https://colab.research.google.com/assets/colab-badge.svg\" alt=\"Open In Colab\"/></a>"
      ]
    },
    {
      "cell_type": "markdown",
      "metadata": {
        "id": "WXEwMsfUct7U"
      },
      "source": [
        "컴퓨터 기초 지식을 의미하는 CS(Computer science)는<br>\n",
        "코딩 테스트와 함께 기술 면접에서 지원자에게 필수적으로 요구합니다.<br>\n",
        "\n",
        "수업 내용 중 기술 면접에 자주 나오는 질문 3가지와 기본적으로 알아야 할 내용 과제로 선정했습니다.<br>\n",
        "\n",
        "관련 내용에 대해서는 구글링 또는 관련 서적을 통해 상세히 공부하시고<br>\n",
        "답변은 최대한 핵심만 담아 간결하게 작성해주세요<br>\n",
        "\n",
        "기술 블로그를 운영 중이신 경우<br>\n",
        "답변 내용을 기술 블로그에 작성하신 후 링크를 답변에 남겨주셔도 됩니다.<br>"
      ]
    },
    {
      "cell_type": "markdown",
      "metadata": {
        "id": "rAD_O3Gmc_43"
      },
      "source": [
        "[문제1]\n",
        "\n",
        "파이썬 2.7 버전과 파이썬 3에서 range 차이를 설명해주세요"
      ]
    },
    {
      "cell_type": "markdown",
      "metadata": {
        "id": "cwtg5Ol7yiQR"
      },
      "source": [
        "* 파이썬 2.7 ver :\n",
        "'range' 함수는 실제 리스트를 생성한다.  \n",
        "\n",
        "    큰 범위의 숫자를 생성할 때 메모리 문제를 일으킬 수 있습니다.\n",
        "\n",
        "* 파이썬 3 ver :\n",
        "3버전 'range'함수는 이터레이터(iterator)를 반환한다.\n",
        "\n",
        "    숫자를 필요에 따라 동적으로 생성하므로 메모리를 효율적으로 사용합니다."
      ]
    },
    {
      "cell_type": "markdown",
      "metadata": {
        "id": "FKOUv9cZyiQR"
      },
      "source": [
        "---"
      ]
    },
    {
      "cell_type": "markdown",
      "metadata": {
        "id": "3uK_auXYdgk2"
      },
      "source": [
        "[문제2]\n",
        "\n",
        "Python의 얕은 복사와 깊은 복사에 대해서 설명하세요"
      ]
    },
    {
      "cell_type": "code",
      "execution_count": null,
      "metadata": {
        "id": "9kvBxa6PdhgA"
      },
      "outputs": [],
      "source": [
        "# 얕은 복사\n",
        "#새로_가져올_객체 = copy.copy(복사할_객체명)\n",
        "\n",
        "#원본 객체의 '참조'를 복사하는 것을 말합니다.\n",
        "\n",
        "# 깊은 복사\n",
        "#새로_가져올_객체 = copy.deepcopy(복사할_객체명)\n",
        "\n",
        "#원본 객체의 '값'을 복사하는 것을 말합니다."
      ]
    }
  ],
  "metadata": {
    "colab": {
      "provenance": [],
      "include_colab_link": true
    },
    "kernelspec": {
      "display_name": "Python 3",
      "name": "python3"
    },
    "language_info": {
      "name": "python"
    }
  },
  "nbformat": 4,
  "nbformat_minor": 0
}